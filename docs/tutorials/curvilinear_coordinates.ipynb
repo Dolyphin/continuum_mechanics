{
 "cells": [
  {
   "cell_type": "markdown",
   "metadata": {},
   "source": [
    "# Introduction to orthogonal coordinates"
   ]
  },
  {
   "cell_type": "markdown",
   "metadata": {},
   "source": [
    "In $\\mathbb{R}^3$, we can think that each point is given by the\n",
    "intersection of three surfaces. Thus, we have three families of curved\n",
    "surfaces that intersect each other at right angles. These surfaces are\n",
    "orthogonal locally, but not (necessarily) globally, and  are\n",
    "defined by\n",
    "\n",
    "$$u_1 = f_1(x, y, z)\\, ,\\quad u_2 = f_2(x, y, z)\\, ,\\quad u_3=f_3(x, y, z) \\, .$$\n",
    "\n",
    "These functions should be invertible, at least locally, and we can also write\n",
    "\n",
    "$$x = x(u_1, u_2, u_3)\\, ,\\quad y = y(u_1, u_2, u_3)\\, ,\\quad z = z(u_1, u_2, u_3)\\, ,$$\n",
    "\n",
    "where $x, y, z$ are the usual Cartesian coordinates. The curve defined by the intersection of two of the surfaces gives us\n",
    "one of the coordinate curves."
   ]
  },
  {
   "cell_type": "markdown",
   "metadata": {},
   "source": [
    "## Scale factors"
   ]
  },
  {
   "cell_type": "markdown",
   "metadata": {},
   "source": [
    "Since we are interested in how these surface intersect each other locally,\n",
    "we want to express differential vectors in terms of the coordinates. Thus,\n",
    "the differential for the position vector ($\\mathbf{r}$) is given by\n",
    "\n",
    "$$\\mathrm{d}\\mathbf{r} = \\frac{\\partial\\mathbf{r}}{\\partial u_1}\\mathrm{d}u_1\n",
    "+ \\frac{\\partial\\mathbf{r}}{\\partial u_2}\\mathrm{d}u_2\n",
    "+ \\frac{\\partial\\mathbf{r}}{\\partial u_3}\\mathrm{d}u_3\\, ,\n",
    "$$\n",
    "\n",
    "or\n",
    "\n",
    "$$\\mathrm{d}\\mathbf{r} = \\sum_{i=1}^3 \\frac{\\partial\\mathbf{r}}{\\partial u_i}\\mathrm{d}u_i\\, .$$\n",
    "\n",
    "The factor $\\partial \\mathbf{r}/\\partial u_i$ is a non-unitary vector that takes\n",
    "into account the variation of $\\mathbf{r}$ in the direction of $u_i$, and is then\n",
    "tangent to the coordinate curve $u_i$. We can define a normalized basis $\\hat{\\mathbf{e}}_i$\n",
    "using\n",
    "\n",
    "$$\\frac{\\partial\\mathbf{r}}{\\partial u_i} = h_i \\hat{\\mathbf{e}}_i\\, .$$\n",
    "\n",
    "The coefficients $h_i$ are functions of $u_i$ and we call them _scale factors_. They\n",
    "are really important since they allow us to _measure_ distances while we move along\n",
    "our coordinates. We would need them to define vector operators in orthogonal coordinates.\n",
    "When the coordinates are not orthogonal we would need to use the [metric tensor](https://en.wikipedia.org/wiki/Metric_tensor), but we are going to restrict ourselves to orthogonal systems.\n",
    "\n",
    "Hence, we have the following\n",
    "\n",
    "$$\\begin{align}\n",
    "&h_i = \\left|\\frac{\\partial\\mathbf{r}}{\\partial u_i}\\right|\\, ,\\\\\n",
    "&\\hat{\\mathbf{e}}_i = \\frac{1}{h_i} \\frac{\\partial \\mathbf{r}}{\\partial u_i}\\, .\n",
    "\\end{align}$$"
   ]
  },
  {
   "cell_type": "markdown",
   "metadata": {},
   "source": [
    "## Curvilinear coordinates available"
   ]
  },
  {
   "cell_type": "markdown",
   "metadata": {},
   "source": [
    "The following coordinate systems are available:\n",
    "\n",
    "- Cartesian;\n",
    "\n",
    "- Cylindrical;\n",
    "\n",
    "- Spherical;\n",
    "\n",
    "- Parabolic cylindrical;\n",
    "\n",
    "- Parabolic;\n",
    "\n",
    "- Paraboloidal;\n",
    "\n",
    "- Elliptic cylindrical;\n",
    "\n",
    "- Oblate spheroidal;\n",
    "\n",
    "- Prolate spheroidal;\n",
    "\n",
    "- Ellipsoidal;\n",
    "\n",
    "- Bipolar cylindrical;\n",
    "\n",
    "- Toroidal;\n",
    "\n",
    "- Bispherical; and\n",
    "\n",
    "- Conical.\n",
    "\n",
    "\n",
    "To obtain the transformation for a given coordinate system we can use\n",
    "the function `transform_coords` in the `vector` module."
   ]
  },
  {
   "cell_type": "code",
   "execution_count": 1,
   "metadata": {},
   "outputs": [],
   "source": [
    "import sympy as sym\n",
    "from continuum_mechanics import vector"
   ]
  },
  {
   "cell_type": "markdown",
   "metadata": {},
   "source": [
    "First, we define the variables for the coordinates $(u, v, w)$."
   ]
  },
  {
   "cell_type": "code",
   "execution_count": 2,
   "metadata": {},
   "outputs": [],
   "source": [
    "sym.init_printing()\n",
    "u, v, w = sym.symbols(\"u v w\")"
   ]
  },
  {
   "cell_type": "markdown",
   "metadata": {},
   "source": [
    "And, we compute the coordinates for the **parabolic** system using ``transform_coords``.\n",
    "The first parameter is a string defining the coordinate system and the second is\n",
    "a tuple with the coordinates."
   ]
  },
  {
   "cell_type": "code",
   "execution_count": 3,
   "metadata": {},
   "outputs": [
    {
     "data": {
      "image/png": "[encoded data removed]",
      "text/latex": [
       "$\\displaystyle \\left( u v \\cos{\\left(w \\right)}, \\  u v \\sin{\\left(w \\right)}, \\  \\frac{u^{2}}{2} - \\frac{v^{2}}{2}\\right)$"
      ],
      "text/plain": [
       "⎛                         2    2⎞\n",
       "⎜                        u    v ⎟\n",
       "⎜u⋅v⋅cos(w), u⋅v⋅sin(w), ── - ──⎟\n",
       "⎝                        2    2 ⎠"
      ]
     },
     "execution_count": 3,
     "metadata": {},
     "output_type": "execute_result"
    }
   ],
   "source": [
    "vector.transform_coords(\"parabolic\", (u, v, w))"
   ]
  },
  {
   "cell_type": "markdown",
   "metadata": {},
   "source": [
    "The scale factors for the coordinate systems mentioned above are availabe.\n",
    "We can compute them for bipolar cylindrical coordinates. The coordinates\n",
    "are defined by\n",
    "\n",
    "$$\\begin{align}\n",
    "&x = a \\frac{\\sinh\\tau}{\\cosh\\tau - \\cos\\sigma}\\, ,\\\\\n",
    "&y = a \\frac{\\sin\\sigma}{\\cosh\\tau - \\cos\\sigma}\\, ,\\\\\n",
    "&z = z\\, ,\n",
    "\\end{align}$$\n",
    "\n",
    "and have the following scale factors\n",
    "\n",
    "$$h_\\sigma = h_\\tau = \\frac{a}{\\cosh\\tau - \\cos\\sigma}\\, ,$$\n",
    "\n",
    "and $h_z = 1$."
   ]
  },
  {
   "cell_type": "code",
   "execution_count": 4,
   "metadata": {},
   "outputs": [
    {
     "data": {
      "image/png": "[encoded data removed]",
      "text/latex": [
       "$\\displaystyle \\left( \\frac{a}{- \\cos{\\left(\\sigma \\right)} + \\cosh{\\left(\\tau \\right)}}, \\  \\frac{a}{- \\cos{\\left(\\sigma \\right)} + \\cosh{\\left(\\tau \\right)}}, \\  1\\right)$"
      ],
      "text/plain": [
       "⎛        a                  a           ⎞\n",
       "⎜─────────────────, ─────────────────, 1⎟\n",
       "⎝-cos(σ) + cosh(τ)  -cos(σ) + cosh(τ)   ⎠"
      ]
     },
     "execution_count": 4,
     "metadata": {},
     "output_type": "execute_result"
    }
   ],
   "source": [
    "sigma, tau, z, a = sym.symbols(\"sigma tau z a\")\n",
    "z = sym.symbols(\"z\")\n",
    "scale = vector.scale_coeff_coords(\"bipolar_cylindrical\", (sigma, tau, z), a=a)\n",
    "scale"
   ]
  },
  {
   "cell_type": "markdown",
   "metadata": {},
   "source": [
    "Finally, we can compute vector operators for different coordinates.\n",
    "\n",
    "The Laplace operator for the bipolar cylindrical system is given by\n",
    "\n",
    "$$\n",
    "\\nabla^2 \\phi =\n",
    "\\frac{1}{a^2} \\left( \\cosh \\tau - \\cos\\sigma \\right)^{2}\n",
    "\\left( \n",
    "\\frac{\\partial^2 \\phi}{\\partial \\sigma^2} + \n",
    "\\frac{\\partial^2 \\phi}{\\partial \\tau^2} \n",
    "\\right) + \n",
    "\\frac{\\partial^2 \\phi}{\\partial z^2}\\, ,$$\n",
    "\n",
    "and we can compute it using the function ``lap``. For this function,\n",
    "the first parameter is the expression that we want to compute the\n",
    "Laplacian for, the second parameter is a tuple with the coordinates\n",
    "and the third parameter is a tuple with the scale factors."
   ]
  },
  {
   "cell_type": "code",
   "execution_count": 5,
   "metadata": {
    "scrolled": true
   },
   "outputs": [
    {
     "data": {
      "image/png": "[encoded data removed]",
      "text/latex": [
       "$\\displaystyle \\frac{a^{2} \\frac{\\partial^{2}}{\\partial z^{2}} \\phi{\\left(\\sigma,\\tau,z \\right)} + \\left(\\cos{\\left(\\sigma \\right)} - \\cosh{\\left(\\tau \\right)}\\right)^{2} \\frac{\\partial^{2}}{\\partial \\sigma^{2}} \\phi{\\left(\\sigma,\\tau,z \\right)} + \\left(\\cos{\\left(\\sigma \\right)} - \\cosh{\\left(\\tau \\right)}\\right)^{2} \\frac{\\partial^{2}}{\\partial \\tau^{2}} \\phi{\\left(\\sigma,\\tau,z \\right)}}{a^{2}}$"
      ],
      "text/plain": [
       "     2                                     2                                  \n",
       " 2  ∂                                  2  ∂                                  2\n",
       "a ⋅───(φ(σ, τ, z)) + (cos(σ) - cosh(τ)) ⋅───(φ(σ, τ, z)) + (cos(σ) - cosh(τ)) \n",
       "     2                                     2                                  \n",
       "   ∂z                                    ∂σ                                   \n",
       "──────────────────────────────────────────────────────────────────────────────\n",
       "                                               2                              \n",
       "                                              a                               \n",
       "\n",
       "   2            \n",
       "  ∂             \n",
       "⋅───(φ(σ, τ, z))\n",
       "   2            \n",
       " ∂τ             \n",
       "────────────────\n",
       "                \n",
       "                "
      ]
     },
     "execution_count": 5,
     "metadata": {},
     "output_type": "execute_result"
    }
   ],
   "source": [
    "phi = sym.symbols(\"phi\", cls=sym.Function)\n",
    "lap = vector.lap(phi(sigma, tau, z), coords=(sigma, tau, z), h_vec=scale)\n",
    "sym.simplify(lap)"
   ]
  }
 ],
 "metadata": {
  "kernelspec": {
   "display_name": "Python 3",
   "language": "python",
   "name": "python3"
  },
  "language_info": {
   "codemirror_mode": {
    "name": "ipython",
    "version": 3
   },
   "file_extension": ".py",
   "mimetype": "text/x-python",
   "name": "python",
   "nbconvert_exporter": "python",
   "pygments_lexer": "ipython3",
   "version": "3.7.6"
  },
  "varInspector": {
   "cols": {
    "lenName": 16,
    "lenType": 16,
    "lenVar": 40
   },
   "kernels_config": {
    "python": {
     "delete_cmd_postfix": "",
     "delete_cmd_prefix": "del ",
     "library": "var_list.py",
     "varRefreshCmd": "print(var_dic_list())"
    },
    "r": {
     "delete_cmd_postfix": ") ",
     "delete_cmd_prefix": "rm(",
     "library": "var_list.r",
     "varRefreshCmd": "cat(var_dic_list()) "
    }
   },
   "types_to_exclude": [
    "module",
    "function",
    "builtin_function_or_method",
    "instance",
    "_Feature"
   ],
   "window_display": false
  }
 },
 "nbformat": 4,
 "nbformat_minor": 2
}
