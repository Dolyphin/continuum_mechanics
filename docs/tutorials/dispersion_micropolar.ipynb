{
 "cells": [
  {
   "cell_type": "markdown",
   "metadata": {},
   "source": [
    "# Dispersion relations in a micropolar medium"
   ]
  },
  {
   "cell_type": "markdown",
   "metadata": {},
   "source": [
    "We are interested in computing the dispersion relations in a\n",
    "homogeneous micropolar solid."
   ]
  },
  {
   "cell_type": "markdown",
   "metadata": {},
   "source": [
    "## Wave propagation in micropolar solids"
   ]
  },
  {
   "cell_type": "markdown",
   "metadata": {},
   "source": [
    "The equations of motion for a micropolar solid are given by [[1, 2]](#References)\n",
    "\n",
    "\\begin{align}\n",
    "&c_1^2\n",
    "\\nabla\\nabla\\cdot\\mathbf{u}- c_2^2\\nabla\\times\\nabla\\times\\mathbf{u} + K^2\\nabla\\times\\boldsymbol{\\theta} = -\\omega^2 \\mathbf{u} \\, ,\\\\\n",
    "&c_3^2 \\nabla\\nabla\\cdot\\boldsymbol{\\theta} - c_4^2\\nabla\\times\\nabla\\times\\boldsymbol{\\theta} + Q^2\\nabla\\times\\mathbf{u} - 2Q^2\\boldsymbol{\\theta} = -\\omega^2 \\boldsymbol{\\theta} \\, \n",
    "\\end{align}\n",
    "\n",
    "\n",
    "where $\\mathbf{u}$ is the displacement vector and $\\boldsymbol{\\theta}$ is the microrrotations vector,\n",
    "and where: $c_1$ represents the phase/group speed for the longitudinal wave \n",
    "($P$) that is non-dispersive as in the classical case, $c_2$ represents the \n",
    "high-frequency limit phase/group speed for a transverse wave ($S$) that is dispersive unlike the classical counterpart, $c_3$ represents the high-frequency limit phase/group speed \n",
    "for a longitudinal-rotational wave ($LR$) with a corkscrew-like motion that is \n",
    "dispersive and does not have a classical counterpart, $c_4$ represents \n",
    "the high-frequency limit phase/group speed for a transverse-rotational wave ($TR$) that is dispersive and does not have a classical counterpart, $Q$ represents the cut-off frequency for rotational \n",
    "waves appearance, and $K$ quantifies the difference between the low-frequency \n",
    "and high-frequency phase/group speed for the S-wave. These parameters are defined by:\n",
    "\n",
    "\\begin{align}\n",
    "c_1^2 = \\frac{\\lambda +2\\mu}{\\rho},\\quad &c_3^2 =\\frac{\\beta + 2\\eta}{J},\\\\\n",
    "c_2^2 = \\frac{\\mu +\\alpha}{\\rho},\\quad &c_4^2 =\\frac{\\eta + \\varepsilon}{J},\\\\\n",
    "Q^2= \\frac{2\\alpha}{J},\\quad &K^2 =\\frac{2\\alpha}{\\rho} \\, ,\n",
    "\\end{align}\n",
    "\n",
    "\n"
   ]
  },
  {
   "cell_type": "markdown",
   "metadata": {},
   "source": [
    "## Dispersion relations"
   ]
  },
  {
   "cell_type": "markdown",
   "metadata": {},
   "source": [
    "To identify types of propagating waves that can arise in the micropolar medium \n",
    "it is convenient to expand the displacement and rotation vectors in terms of \n",
    "scalar and vector potentials\n",
    "\n",
    "\\begin{align}\n",
    "\\mathbf{u} &= \\nabla \\phi + \\nabla\\times\\boldsymbol{\\Gamma}\\, ,\\\\\n",
    "\\boldsymbol{\\theta} &= \\nabla \\tau + \\nabla\\times\\mathbf{E}\\, ,\n",
    "\\end{align}\n",
    "\n",
    "subject to the conditions:\n",
    "\n",
    "\\begin{align}\n",
    "&\\nabla\\cdot\\boldsymbol{\\Gamma} = 0\\\\\n",
    "&\\nabla\\cdot\\mathbf{E} = 0\\, .\n",
    "\\end{align}\n",
    "\n",
    "Using the above in the displacements equations of motion yields the following\n",
    "equations, after some manipulations\n",
    "\n",
    "\\begin{align}\n",
    "c_1^2 \\nabla^2 \\phi &= \\frac{\\partial^2 \\phi}{\\partial t^2}\\, ,\\\\\n",
    "c_3^2 \\nabla^2 \\tau - 2Q^2\\tau &= \\frac{\\partial^2 \\tau}{\\partial t^2}\\, ,\\\\\n",
    "\\begin{bmatrix}\n",
    "c_2^2 \\nabla^2 &K^2\\nabla\\times\\, ,\\\\\n",
    "Q^2\\nabla\\times &c_4^2\\nabla^2 - 2Q^2\n",
    "\\end{bmatrix}\n",
    "\\begin{Bmatrix} \\boldsymbol{\\Gamma}\\\\ \\mathbf{E}\\end{Bmatrix} &=\n",
    "\\frac{\\partial^2}{\\partial t^2} \\begin{Bmatrix} \\boldsymbol{\\Gamma}\\\\ \\mathbf{E}\\end{Bmatrix} \\, ,\n",
    "\\end{align}\n",
    "\n",
    "\n",
    "where we can see that the equations for the scalar potentials are uncoupled,\n",
    "while the ones for the vector potentials are coupled.\n",
    "\n",
    "Writing the vector potentials as plane waves of amplitude $ \\mathbf{A}$ and $ \n",
    "\\mathbf{B}$, wave number $\\kappa$ and circular frequency $\\omega$ that propagate \n",
    "along the \\(x\\) axis, \n",
    "\n",
    "\\begin{align}\n",
    "\\boldsymbol{\\Gamma} &= \\mathbf{A}\\exp(i\\kappa x - i\\omega t)\\\\\n",
    "\\mathbf{E} &= \\mathbf{B}\\exp(i\\kappa x - i\\omega t)\\, .\n",
    "\\end{align}\n",
    "\n",
    "We can do these calculations using some the functions available functions in the package."
   ]
  },
  {
   "cell_type": "code",
   "execution_count": 1,
   "metadata": {},
   "outputs": [],
   "source": [
    "from sympy import Matrix, diff, symbols, exp, I, sqrt\n",
    "from sympy import simplify, expand, solve, limit\n",
    "from sympy import init_printing, pprint, factor\n",
    "from continuum_mechanics.vector import lap_vec, curl, div"
   ]
  },
  {
   "cell_type": "code",
   "execution_count": 2,
   "metadata": {},
   "outputs": [],
   "source": [
    "init_printing()"
   ]
  },
  {
   "cell_type": "code",
   "execution_count": 3,
   "metadata": {},
   "outputs": [],
   "source": [
    "A1, A2, A3, B1, B2, B3 = symbols(\"A1 A2 A3 B1 B2 B3\")\n",
    "kappa, omega, t, x = symbols(\"kappa omega t x\")\n",
    "c1, c2, c3, c4, K, Q = symbols(\"c1 c2 c3 c4 K Q\", positive=True)"
   ]
  },
  {
   "cell_type": "markdown",
   "metadata": {},
   "source": [
    "We define the vector potentials $\\boldsymbol{\\Gamma}$ and $\\mathbf{E}$."
   ]
  },
  {
   "cell_type": "code",
   "execution_count": 4,
   "metadata": {},
   "outputs": [],
   "source": [
    "Gamma = Matrix([A1, A2, A3]) * exp(I*kappa*x - I*omega*t)\n",
    "E = Matrix([B1, B2, B3]) * exp(I*kappa*x - I*omega*t)"
   ]
  },
  {
   "cell_type": "markdown",
   "metadata": {},
   "source": [
    "And compute the equations using the vector operators. Namely,\n",
    "the Laplace ([`vector.lap_vec()`](https://continuum-mechanics.readthedocs.io/en/latest/modules.html#vector.lap_vec)  and the curl\n",
    "([`vector.curl()`](https://continuum-mechanics.readthedocs.io/en/latest/modules.html#vector.curl))\n",
    "operators."
   ]
  },
  {
   "cell_type": "code",
   "execution_count": 5,
   "metadata": {},
   "outputs": [],
   "source": [
    "eq1 = c2**2 * lap_vec(Gamma) + K**2*curl(E) - Gamma.diff(t, 2)\n",
    "eq2 = Q**2 * curl(Gamma) + c4**2*lap_vec(E) - 2*Q**2*E - E.diff(t, 2)\n",
    "eq1 = simplify(eq1/exp(I*kappa*x - I*omega*t))\n",
    "eq2 = simplify(eq2/exp(I*kappa*x  - I*omega*t))\n",
    "eq = eq1.col_join(eq2)"
   ]
  },
  {
   "cell_type": "markdown",
   "metadata": {},
   "source": [
    "We can compute the matrix for the system using [`.jacobian()`](https://docs.sympy.org/1.5.1/modules/matrices/matrices.html#sympy.matrices.matrices.MatrixCalculus.jacobian) "
   ]
  },
  {
   "cell_type": "code",
   "execution_count": 6,
   "metadata": {},
   "outputs": [
    {
     "data": {
      "image/png": "[encoded data removed]",
      "text/latex": [
       "$$\\left[\\begin{matrix}- c_{2}^{2} \\kappa^{2} + \\omega^{2} & 0 & 0 & 0 & 0 & 0\\\\0 & - c_{2}^{2} \\kappa^{2} + \\omega^{2} & 0 & 0 & 0 & - i K^{2} \\kappa\\\\0 & 0 & - c_{2}^{2} \\kappa^{2} + \\omega^{2} & 0 & i K^{2} \\kappa & 0\\\\0 & 0 & 0 & - 2 Q^{2} - c_{4}^{2} \\kappa^{2} + \\omega^{2} & 0 & 0\\\\0 & 0 & - i Q^{2} \\kappa & 0 & - 2 Q^{2} - c_{4}^{2} \\kappa^{2} + \\omega^{2} & 0\\\\0 & i Q^{2} \\kappa & 0 & 0 & 0 & - 2 Q^{2} - c_{4}^{2} \\kappa^{2} + \\omega^{2}\\end{matrix}\\right]$$"
      ],
      "text/plain": [
       "⎡    2  2    2                                                                \n",
       "⎢- c₂ ⋅κ  + ω         0              0                 0                     0\n",
       "⎢                                                                             \n",
       "⎢                   2  2    2                                                 \n",
       "⎢      0        - c₂ ⋅κ  + ω         0                 0                     0\n",
       "⎢                                                                             \n",
       "⎢                                  2  2    2                                  \n",
       "⎢      0              0        - c₂ ⋅κ  + ω            0                   ⅈ⋅K\n",
       "⎢                                                                             \n",
       "⎢                                                  2     2  2    2            \n",
       "⎢      0              0              0        - 2⋅Q  - c₄ ⋅κ  + ω            0\n",
       "⎢                                                                             \n",
       "⎢                                     2                                  2    \n",
       "⎢      0              0           -ⅈ⋅Q ⋅κ              0            - 2⋅Q  - c\n",
       "⎢                                                                             \n",
       "⎢                     2                                                       \n",
       "⎣      0           ⅈ⋅Q ⋅κ            0                 0                     0\n",
       "\n",
       "                                ⎤\n",
       "                     0          ⎥\n",
       "                                ⎥\n",
       "                      2         ⎥\n",
       "                  -ⅈ⋅K ⋅κ       ⎥\n",
       "                                ⎥\n",
       "2                               ⎥\n",
       " ⋅κ                  0          ⎥\n",
       "                                ⎥\n",
       "                                ⎥\n",
       "                     0          ⎥\n",
       "                                ⎥\n",
       " 2  2    2                      ⎥\n",
       "₄ ⋅κ  + ω            0          ⎥\n",
       "                                ⎥\n",
       "                 2     2  2    2⎥\n",
       "            - 2⋅Q  - c₄ ⋅κ  + ω ⎦"
      ]
     },
     "execution_count": 6,
     "metadata": {},
     "output_type": "execute_result"
    }
   ],
   "source": [
    "M = eq.jacobian([A1, A2, A3, B1, B2, B3])\n",
    "M"
   ]
  },
  {
   "cell_type": "markdown",
   "metadata": {},
   "source": [
    "And, we are interested in the determinant of the matrix $M$."
   ]
  },
  {
   "cell_type": "code",
   "execution_count": 7,
   "metadata": {},
   "outputs": [
    {
     "data": {
      "image/png": "[encoded data removed]",
      "text/latex": [
       "$$\\left(c_{2} \\kappa - \\omega\\right) \\left(c_{2} \\kappa + \\omega\\right) \\left(2 Q^{2} + c_{4}^{2} \\kappa^{2} - \\omega^{2}\\right) \\left(- K^{2} Q^{2} \\kappa^{2} + 2 Q^{2} c_{2}^{2} \\kappa^{2} - 2 Q^{2} \\omega^{2} + c_{2}^{2} c_{4}^{2} \\kappa^{4} - c_{2}^{2} \\kappa^{2} \\omega^{2} - c_{4}^{2} \\kappa^{2} \\omega^{2} + \\omega^{4}\\right)^{2}$$"
      ],
      "text/plain": [
       "                                                                              \n",
       "                      ⎛   2     2  2    2⎞ ⎛   2  2  2      2   2  2      2  2\n",
       "(c₂⋅κ - ω)⋅(c₂⋅κ + ω)⋅⎝2⋅Q  + c₄ ⋅κ  - ω ⎠⋅⎝- K ⋅Q ⋅κ  + 2⋅Q ⋅c₂ ⋅κ  - 2⋅Q ⋅ω \n",
       "\n",
       "                                           2\n",
       "     2   2  4     2  2  2     2  2  2    4⎞ \n",
       " + c₂ ⋅c₄ ⋅κ  - c₂ ⋅κ ⋅ω  - c₄ ⋅κ ⋅ω  + ω ⎠ "
      ]
     },
     "execution_count": 7,
     "metadata": {},
     "output_type": "execute_result"
    }
   ],
   "source": [
    "factor(M.det())"
   ]
  },
  {
   "cell_type": "markdown",
   "metadata": {},
   "source": [
    "The roots for this polynomial (in $\\omega^2$) represent the dispersion\n",
    "relations."
   ]
  },
  {
   "cell_type": "code",
   "execution_count": 8,
   "metadata": {},
   "outputs": [
    {
     "data": {
      "image/png": "[encoded data removed]",
      "text/latex": [
       "$$c_{2}^{2} \\kappa^{2}$$"
      ],
      "text/plain": [
       "  2  2\n",
       "c₂ ⋅κ "
      ]
     },
     "metadata": {},
     "output_type": "display_data"
    },
    {
     "data": {
      "image/png": "[encoded data removed]",
      "text/latex": [
       "$$2 Q^{2} + c_{4}^{2} \\kappa^{2}$$"
      ],
      "text/plain": [
       "   2     2  2\n",
       "2⋅Q  + c₄ ⋅κ "
      ]
     },
     "metadata": {},
     "output_type": "display_data"
    },
    {
     "data": {
      "image/png": "[encoded data removed]",
      "text/latex": [
       "$$Q^{2} + \\frac{c_{2}^{2} \\kappa^{2}}{2} + \\frac{c_{4}^{2} \\kappa^{2}}{2} - \\frac{1}{2} \\sqrt{4 K^{2} Q^{2} \\kappa^{2} + 4 Q^{4} - 4 Q^{2} c_{2}^{2} \\kappa^{2} + 4 Q^{2} c_{4}^{2} \\kappa^{2} + c_{2}^{4} \\kappa^{4} - 2 c_{2}^{2} c_{4}^{2} \\kappa^{4} + c_{4}^{4} \\kappa^{4}}$$"
      ],
      "text/plain": [
       "                          ____________________________________________________\n",
       "       2  2     2  2     ╱    2  2  2      4      2   2  2      2   2  2     4\n",
       " 2   c₂ ⋅κ    c₄ ⋅κ    ╲╱  4⋅K ⋅Q ⋅κ  + 4⋅Q  - 4⋅Q ⋅c₂ ⋅κ  + 4⋅Q ⋅c₄ ⋅κ  + c₂ \n",
       "Q  + ────── + ────── - ───────────────────────────────────────────────────────\n",
       "       2        2                                               2             \n",
       "\n",
       "____________________________\n",
       "  4       2   2  4     4  4 \n",
       "⋅κ  - 2⋅c₂ ⋅c₄ ⋅κ  + c₄ ⋅κ  \n",
       "────────────────────────────\n",
       "                            "
      ]
     },
     "metadata": {},
     "output_type": "display_data"
    },
    {
     "data": {
      "image/png": "[encoded data removed]",
      "text/latex": [
       "$$Q^{2} + \\frac{c_{2}^{2} \\kappa^{2}}{2} + \\frac{c_{4}^{2} \\kappa^{2}}{2} + \\frac{1}{2} \\sqrt{4 K^{2} Q^{2} \\kappa^{2} + 4 Q^{4} - 4 Q^{2} c_{2}^{2} \\kappa^{2} + 4 Q^{2} c_{4}^{2} \\kappa^{2} + c_{2}^{4} \\kappa^{4} - 2 c_{2}^{2} c_{4}^{2} \\kappa^{4} + c_{4}^{4} \\kappa^{4}}$$"
      ],
      "text/plain": [
       "                          ____________________________________________________\n",
       "       2  2     2  2     ╱    2  2  2      4      2   2  2      2   2  2     4\n",
       " 2   c₂ ⋅κ    c₄ ⋅κ    ╲╱  4⋅K ⋅Q ⋅κ  + 4⋅Q  - 4⋅Q ⋅c₂ ⋅κ  + 4⋅Q ⋅c₄ ⋅κ  + c₂ \n",
       "Q  + ────── + ────── + ───────────────────────────────────────────────────────\n",
       "       2        2                                               2             \n",
       "\n",
       "____________________________\n",
       "  4       2   2  4     4  4 \n",
       "⋅κ  - 2⋅c₂ ⋅c₄ ⋅κ  + c₄ ⋅κ  \n",
       "────────────────────────────\n",
       "                            "
      ]
     },
     "metadata": {},
     "output_type": "display_data"
    }
   ],
   "source": [
    "disps = solve(M.det(), omega**2)\n",
    "for disp in disps:\n",
    "    display(disp)"
   ]
  },
  {
   "cell_type": "markdown",
   "metadata": {},
   "source": [
    "## References"
   ]
  },
  {
   "cell_type": "markdown",
   "metadata": {},
   "source": [
    "1. Nowacki, W. (1986). Theory of asymmetric elasticity. Pergamon Press, Headington Hill Hall, Oxford OX 3 0 BW, UK, 1986.\n",
    "\n",
    "2. Guarín-Zapata, N., Gomez, J., Valencia, C., Dargush, G. F., & Hadjesfandiari, A. R. (2020). Finite element modeling of micropolar-based phononic crystals. Wave Motion, 92, 102406."
   ]
  }
 ],
 "metadata": {
  "kernelspec": {
   "display_name": "Python 3",
   "language": "python",
   "name": "python3"
  },
  "language_info": {
   "codemirror_mode": {
    "name": "ipython",
    "version": 3
   },
   "file_extension": ".py",
   "mimetype": "text/x-python",
   "name": "python",
   "nbconvert_exporter": "python",
   "pygments_lexer": "ipython3",
   "version": "3.6.9"
  },
  "varInspector": {
   "cols": {
    "lenName": 16,
    "lenType": 16,
    "lenVar": 40
   },
   "kernels_config": {
    "python": {
     "delete_cmd_postfix": "",
     "delete_cmd_prefix": "del ",
     "library": "var_list.py",
     "varRefreshCmd": "print(var_dic_list())"
    },
    "r": {
     "delete_cmd_postfix": ") ",
     "delete_cmd_prefix": "rm(",
     "library": "var_list.r",
     "varRefreshCmd": "cat(var_dic_list()) "
    }
   },
   "types_to_exclude": [
    "module",
    "function",
    "builtin_function_or_method",
    "instance",
    "_Feature"
   ],
   "window_display": false
  }
 },
 "nbformat": 4,
 "nbformat_minor": 2
}
