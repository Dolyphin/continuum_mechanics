{
 "cells": [
  {
   "cell_type": "markdown",
   "metadata": {},
   "source": [
    "# Vector operators in Cartesian coordinates\n",
    "\n",
    "``continuum_mechanics`` support major vector operators such as:\n",
    "\n",
    "- gradient of a scalar function;\n",
    "\n",
    "- divergence of a vector function;\n",
    "\n",
    "- curl of a vector function;\n",
    "\n",
    "- gradient of a vector function;\n",
    "\n",
    "- divergence of a tensor;\n",
    "\n",
    "- Laplace operator of a scalar function;\n",
    "\n",
    "- Laplace operator of a vector function; and\n",
    "\n",
    "- Biharmonic operator of a scalar function.\n",
    "\n",
    "All these operators are in the module `vector`."
   ]
  },
  {
   "cell_type": "code",
   "execution_count": 1,
   "metadata": {},
   "outputs": [],
   "source": [
    "from sympy import *\n",
    "from continuum_mechanics import vector"
   ]
  },
  {
   "cell_type": "markdown",
   "metadata": {},
   "source": [
    "By default Cartesian coordinates are given by $x$, $y$ and $z$.\n",
    "If these coordinates are used there is not necessary to specify\n",
    "them when calling the vector operators"
   ]
  },
  {
   "cell_type": "code",
   "execution_count": 2,
   "metadata": {},
   "outputs": [],
   "source": [
    "init_printing()\n",
    "x, y, z = symbols(\"x y z\")"
   ]
  },
  {
   "cell_type": "markdown",
   "metadata": {},
   "source": [
    "Following, we have some examples of vector operators in Cartesian coordinates."
   ]
  },
  {
   "cell_type": "markdown",
   "metadata": {},
   "source": [
    "## Gradient of a scalar function\n",
    "\n",
    "The gradient takes as input a scalar and returns a vector,\n",
    "represented by a 3 by 1 matrix."
   ]
  },
  {
   "cell_type": "code",
   "execution_count": 3,
   "metadata": {},
   "outputs": [
    {
     "data": {
      "image/png": "[encoded data removed]",
      "text/latex": [
       "$$2 x + 3 y^{2} - \\sin{\\left (z \\right )}$$"
      ],
      "text/plain": [
       "         2         \n",
       "2⋅x + 3⋅y  - sin(z)"
      ]
     },
     "execution_count": 3,
     "metadata": {},
     "output_type": "execute_result"
    }
   ],
   "source": [
    "f = 2*x + 3*y**2 - sin(z)\n",
    "f"
   ]
  },
  {
   "cell_type": "code",
   "execution_count": 4,
   "metadata": {},
   "outputs": [
    {
     "data": {
      "image/png": "[encoded data removed]",
      "text/latex": [
       "$$\\left[\\begin{matrix}2\\\\6 y\\\\- \\cos{\\left (z \\right )}\\end{matrix}\\right]$$"
      ],
      "text/plain": [
       "⎡   2   ⎤\n",
       "⎢       ⎥\n",
       "⎢  6⋅y  ⎥\n",
       "⎢       ⎥\n",
       "⎣-cos(z)⎦"
      ]
     },
     "execution_count": 4,
     "metadata": {},
     "output_type": "execute_result"
    }
   ],
   "source": [
    "vector.grad(f)"
   ]
  },
  {
   "cell_type": "markdown",
   "metadata": {},
   "source": [
    "## Divergence of a vector function\n",
    "\n",
    "The divergence takes as input a vector (represented by a 3 by 1 matrix) and returns a scalar."
   ]
  },
  {
   "cell_type": "code",
   "execution_count": 5,
   "metadata": {},
   "outputs": [
    {
     "data": {
      "image/png": "[encoded data removed]",
      "text/latex": [
       "$$3$$"
      ],
      "text/plain": [
       "3"
      ]
     },
     "execution_count": 5,
     "metadata": {},
     "output_type": "execute_result"
    }
   ],
   "source": [
    "vector.div(Matrix([x, y, z]))"
   ]
  },
  {
   "cell_type": "code",
   "execution_count": 6,
   "metadata": {},
   "outputs": [
    {
     "data": {
      "image/png": "[encoded data removed]",
      "text/latex": [
       "$$2 x + 2 y + 2 z$$"
      ],
      "text/plain": [
       "2⋅x + 2⋅y + 2⋅z"
      ]
     },
     "execution_count": 6,
     "metadata": {},
     "output_type": "execute_result"
    }
   ],
   "source": [
    "vector.div(Matrix([\n",
    "    x**2 + y*z,\n",
    "    y**2 + x*z,\n",
    "    z**2 + x*y]))"
   ]
  },
  {
   "cell_type": "markdown",
   "metadata": {},
   "source": [
    "## Divergence of a tensor function"
   ]
  },
  {
   "cell_type": "markdown",
   "metadata": {},
   "source": [
    "The divergence of a tensor (represented by a 3 by 3 matrix)\n",
    "returns a vector."
   ]
  },
  {
   "cell_type": "code",
   "execution_count": 7,
   "metadata": {},
   "outputs": [],
   "source": [
    "Axx, Axy, Axz = symbols(\"A_xx A_xy A_xz\", cls=Function)\n",
    "Ayx, Ayy, Ayz = symbols(\"A_yx A_yy A_yz\", cls=Function)\n",
    "Azx, Azy, Azz = symbols(\"A_zx A_zy A_zz\", cls=Function)"
   ]
  },
  {
   "cell_type": "code",
   "execution_count": 8,
   "metadata": {},
   "outputs": [
    {
     "data": {
      "image/png": "[encoded data removed]",
      "text/latex": [
       "$$\\left[\\begin{matrix}\\operatorname{A_{xx}}{\\left (x,y,z \\right )} & \\operatorname{A_{xy}}{\\left (x,y,z \\right )} & \\operatorname{A_{xz}}{\\left (x,y,z \\right )}\\\\\\operatorname{A_{yx}}{\\left (x,y,z \\right )} & \\operatorname{A_{yy}}{\\left (x,y,z \\right )} & \\operatorname{A_{yz}}{\\left (x,y,z \\right )}\\\\\\operatorname{A_{zx}}{\\left (x,y,z \\right )} & \\operatorname{A_{zy}}{\\left (x,y,z \\right )} & \\operatorname{A_{zz}}{\\left (x,y,z \\right )}\\end{matrix}\\right]$$"
      ],
      "text/plain": [
       "⎡Aₓₓ(x, y, z)   A_xy(x, y, z)  A_xz(x, y, z)⎤\n",
       "⎢                                           ⎥\n",
       "⎢A_yx(x, y, z)  A_yy(x, y, z)  A_yz(x, y, z)⎥\n",
       "⎢                                           ⎥\n",
       "⎣A_zx(x, y, z)  A_zy(x, y, z)  A_zz(x, y, z)⎦"
      ]
     },
     "execution_count": 8,
     "metadata": {},
     "output_type": "execute_result"
    }
   ],
   "source": [
    "tensor = Matrix([\n",
    "    [Axx(x, y, z), Axy(x, y, z), Axz(x, y, z)],\n",
    "    [Ayx(x, y, z), Ayy(x, y, z), Ayz(x, y, z)],\n",
    "    [Azx(x, y, z), Azy(x, y, z), Azz(x, y, z)]])\n",
    "tensor"
   ]
  },
  {
   "cell_type": "code",
   "execution_count": 9,
   "metadata": {},
   "outputs": [
    {
     "data": {
      "image/png": "[encoded data removed]",
      "text/latex": [
       "$$\\left[\\begin{matrix}\\frac{\\partial}{\\partial x} \\operatorname{A_{xx}}{\\left (x,y,z \\right )} + \\frac{\\partial}{\\partial y} \\operatorname{A_{xy}}{\\left (x,y,z \\right )} + \\frac{\\partial}{\\partial z} \\operatorname{A_{xz}}{\\left (x,y,z \\right )}\\\\\\frac{\\partial}{\\partial x} \\operatorname{A_{yx}}{\\left (x,y,z \\right )} + \\frac{\\partial}{\\partial y} \\operatorname{A_{yy}}{\\left (x,y,z \\right )} + \\frac{\\partial}{\\partial z} \\operatorname{A_{yz}}{\\left (x,y,z \\right )}\\\\\\frac{\\partial}{\\partial x} \\operatorname{A_{zx}}{\\left (x,y,z \\right )} + \\frac{\\partial}{\\partial y} \\operatorname{A_{zy}}{\\left (x,y,z \\right )} + \\frac{\\partial}{\\partial z} \\operatorname{A_{zz}}{\\left (x,y,z \\right )}\\end{matrix}\\right]$$"
      ],
      "text/plain": [
       "⎡∂                  ∂                   ∂                 ⎤\n",
       "⎢──(Aₓₓ(x, y, z)) + ──(A_xy(x, y, z)) + ──(A_xz(x, y, z)) ⎥\n",
       "⎢∂x                 ∂y                  ∂z                ⎥\n",
       "⎢                                                         ⎥\n",
       "⎢∂                   ∂                   ∂                ⎥\n",
       "⎢──(A_yx(x, y, z)) + ──(A_yy(x, y, z)) + ──(A_yz(x, y, z))⎥\n",
       "⎢∂x                  ∂y                  ∂z               ⎥\n",
       "⎢                                                         ⎥\n",
       "⎢∂                   ∂                   ∂                ⎥\n",
       "⎢──(A_zx(x, y, z)) + ──(A_zy(x, y, z)) + ──(A_zz(x, y, z))⎥\n",
       "⎣∂x                  ∂y                  ∂z               ⎦"
      ]
     },
     "execution_count": 9,
     "metadata": {},
     "output_type": "execute_result"
    }
   ],
   "source": [
    "vector.div_tensor(tensor)"
   ]
  },
  {
   "cell_type": "markdown",
   "metadata": {},
   "source": [
    "## Curl of a vector function"
   ]
  },
  {
   "cell_type": "code",
   "execution_count": 10,
   "metadata": {},
   "outputs": [],
   "source": [
    "fun = symbols(\"fun\", cls=Function)"
   ]
  },
  {
   "cell_type": "code",
   "execution_count": 11,
   "metadata": {},
   "outputs": [
    {
     "data": {
      "image/png": "[encoded data removed]",
      "text/latex": [
       "$$\\left[\\begin{matrix}0\\\\0\\\\0\\end{matrix}\\right]$$"
      ],
      "text/plain": [
       "⎡0⎤\n",
       "⎢ ⎥\n",
       "⎢0⎥\n",
       "⎢ ⎥\n",
       "⎣0⎦"
      ]
     },
     "execution_count": 11,
     "metadata": {},
     "output_type": "execute_result"
    }
   ],
   "source": [
    "vector.curl(vector.grad(fun(x, y, z)))"
   ]
  }
 ],
 "metadata": {
  "kernelspec": {
   "display_name": "Python 3",
   "language": "python",
   "name": "python3"
  },
  "language_info": {
   "codemirror_mode": {
    "name": "ipython",
    "version": 3
   },
   "file_extension": ".py",
   "mimetype": "text/x-python",
   "name": "python",
   "nbconvert_exporter": "python",
   "pygments_lexer": "ipython3",
   "version": "3.6.9"
  },
  "varInspector": {
   "cols": {
    "lenName": 16,
    "lenType": 16,
    "lenVar": 40
   },
   "kernels_config": {
    "python": {
     "delete_cmd_postfix": "",
     "delete_cmd_prefix": "del ",
     "library": "var_list.py",
     "varRefreshCmd": "print(var_dic_list())"
    },
    "r": {
     "delete_cmd_postfix": ") ",
     "delete_cmd_prefix": "rm(",
     "library": "var_list.r",
     "varRefreshCmd": "cat(var_dic_list()) "
    }
   },
   "types_to_exclude": [
    "module",
    "function",
    "builtin_function_or_method",
    "instance",
    "_Feature"
   ],
   "window_display": false
  }
 },
 "nbformat": 4,
 "nbformat_minor": 2
}
